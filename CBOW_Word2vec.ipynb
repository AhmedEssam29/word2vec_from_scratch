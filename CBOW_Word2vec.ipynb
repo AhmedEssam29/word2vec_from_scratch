{
 "cells": [
  {
   "cell_type": "code",
   "execution_count": 1,
   "metadata": {},
   "outputs": [],
   "source": [
    "import re\n",
    "import numpy as np\n",
    "import matplotlib.pyplot as plt"
   ]
  },
  {
   "cell_type": "code",
   "execution_count": 2,
   "metadata": {},
   "outputs": [],
   "source": [
    "sentences = \"\"\"We are about to study the idea of a computational process.\n",
    "Computational processes are abstract beings that inhabit computers.\n",
    "As they evolve, processes manipulate other abstract things called data.\n",
    "The evolution of a process is directed by a pattern of rules\n",
    "called a program. People create programs to direct processes. In effect,\n",
    "we conjure the spirits of the computer with our spells.\"\"\""
   ]
  },
  {
   "cell_type": "code",
   "execution_count": 3,
   "metadata": {},
   "outputs": [
    {
     "data": {
      "text/plain": [
       "'We are about to study the idea of a computational process Computational processes are abstract beings that inhabit computers As they evolve processes manipulate other abstract things called data The evolution of a process is directed by a pattern of rules called a program People create programs to direct processes In effect we conjure the spirits of the computer with our spells '"
      ]
     },
     "execution_count": 3,
     "metadata": {},
     "output_type": "execute_result"
    }
   ],
   "source": [
    "# remove special characters\n",
    "sentences = re.sub('[^A-Za-z0-9]+', ' ', sentences)\n",
    "sentences"
   ]
  },
  {
   "cell_type": "code",
   "execution_count": 4,
   "metadata": {},
   "outputs": [
    {
     "data": {
      "text/plain": [
       "'We are about to study the idea of computational process Computational processes are abstract beings that inhabit computers As they evolve processes manipulate other abstract things called data The evolution of process is directed by pattern of rules called program People create programs to direct processes In effect we conjure the spirits of the computer with our spells'"
      ]
     },
     "execution_count": 4,
     "metadata": {},
     "output_type": "execute_result"
    }
   ],
   "source": [
    "# remove 1 letter words\n",
    "sentences = re.sub(r'(?:^| )\\w(?:$| )', ' ', sentences).strip()\n",
    "sentences"
   ]
  },
  {
   "cell_type": "code",
   "execution_count": 5,
   "metadata": {},
   "outputs": [
    {
     "data": {
      "text/plain": [
       "'we are about to study the idea of computational process computational processes are abstract beings that inhabit computers as they evolve processes manipulate other abstract things called data the evolution of process is directed by pattern of rules called program people create programs to direct processes in effect we conjure the spirits of the computer with our spells'"
      ]
     },
     "execution_count": 5,
     "metadata": {},
     "output_type": "execute_result"
    }
   ],
   "source": [
    "# lower all characters\n",
    "sentences = sentences.lower()\n",
    "sentences"
   ]
  },
  {
   "cell_type": "code",
   "execution_count": 6,
   "metadata": {},
   "outputs": [
    {
     "data": {
      "text/plain": [
       "['we',\n",
       " 'are',\n",
       " 'about',\n",
       " 'to',\n",
       " 'study',\n",
       " 'the',\n",
       " 'idea',\n",
       " 'of',\n",
       " 'computational',\n",
       " 'process',\n",
       " 'computational',\n",
       " 'processes',\n",
       " 'are',\n",
       " 'abstract',\n",
       " 'beings',\n",
       " 'that',\n",
       " 'inhabit',\n",
       " 'computers',\n",
       " 'as',\n",
       " 'they',\n",
       " 'evolve',\n",
       " 'processes',\n",
       " 'manipulate',\n",
       " 'other',\n",
       " 'abstract',\n",
       " 'things',\n",
       " 'called',\n",
       " 'data',\n",
       " 'the',\n",
       " 'evolution',\n",
       " 'of',\n",
       " 'process',\n",
       " 'is',\n",
       " 'directed',\n",
       " 'by',\n",
       " 'pattern',\n",
       " 'of',\n",
       " 'rules',\n",
       " 'called',\n",
       " 'program',\n",
       " 'people',\n",
       " 'create',\n",
       " 'programs',\n",
       " 'to',\n",
       " 'direct',\n",
       " 'processes',\n",
       " 'in',\n",
       " 'effect',\n",
       " 'we',\n",
       " 'conjure',\n",
       " 'the',\n",
       " 'spirits',\n",
       " 'of',\n",
       " 'the',\n",
       " 'computer',\n",
       " 'with',\n",
       " 'our',\n",
       " 'spells']"
      ]
     },
     "execution_count": 6,
     "metadata": {},
     "output_type": "execute_result"
    }
   ],
   "source": [
    "\n",
    "words = sentences.split()\n",
    "words"
   ]
  },
  {
   "cell_type": "code",
   "execution_count": 7,
   "metadata": {},
   "outputs": [
    {
     "data": {
      "text/plain": [
       "{'about',\n",
       " 'abstract',\n",
       " 'are',\n",
       " 'as',\n",
       " 'beings',\n",
       " 'by',\n",
       " 'called',\n",
       " 'computational',\n",
       " 'computer',\n",
       " 'computers',\n",
       " 'conjure',\n",
       " 'create',\n",
       " 'data',\n",
       " 'direct',\n",
       " 'directed',\n",
       " 'effect',\n",
       " 'evolution',\n",
       " 'evolve',\n",
       " 'idea',\n",
       " 'in',\n",
       " 'inhabit',\n",
       " 'is',\n",
       " 'manipulate',\n",
       " 'of',\n",
       " 'other',\n",
       " 'our',\n",
       " 'pattern',\n",
       " 'people',\n",
       " 'process',\n",
       " 'processes',\n",
       " 'program',\n",
       " 'programs',\n",
       " 'rules',\n",
       " 'spells',\n",
       " 'spirits',\n",
       " 'study',\n",
       " 'that',\n",
       " 'the',\n",
       " 'they',\n",
       " 'things',\n",
       " 'to',\n",
       " 'we',\n",
       " 'with'}"
      ]
     },
     "execution_count": 7,
     "metadata": {},
     "output_type": "execute_result"
    }
   ],
   "source": [
    "vocab = set(words)\n",
    "vocab"
   ]
  },
  {
   "cell_type": "code",
   "execution_count": 8,
   "metadata": {},
   "outputs": [],
   "source": [
    "vocab_size = len(vocab)\n",
    "embed_dim = 10\n",
    "context_size = 2"
   ]
  },
  {
   "cell_type": "code",
   "execution_count": 9,
   "metadata": {},
   "outputs": [
    {
     "data": {
      "text/plain": [
       "{'the': 0,\n",
       " 'are': 1,\n",
       " 'evolution': 2,\n",
       " 'evolve': 3,\n",
       " 'manipulate': 4,\n",
       " 'called': 5,\n",
       " 'computers': 6,\n",
       " 'they': 7,\n",
       " 'our': 8,\n",
       " 'rules': 9,\n",
       " 'program': 10,\n",
       " 'beings': 11,\n",
       " 'other': 12,\n",
       " 'processes': 13,\n",
       " 'that': 14,\n",
       " 'data': 15,\n",
       " 'directed': 16,\n",
       " 'spirits': 17,\n",
       " 'create': 18,\n",
       " 'pattern': 19,\n",
       " 'computational': 20,\n",
       " 'idea': 21,\n",
       " 'study': 22,\n",
       " 'abstract': 23,\n",
       " 'people': 24,\n",
       " 'about': 25,\n",
       " 'direct': 26,\n",
       " 'to': 27,\n",
       " 'we': 28,\n",
       " 'is': 29,\n",
       " 'inhabit': 30,\n",
       " 'programs': 31,\n",
       " 'spells': 32,\n",
       " 'effect': 33,\n",
       " 'process': 34,\n",
       " 'things': 35,\n",
       " 'by': 36,\n",
       " 'in': 37,\n",
       " 'with': 38,\n",
       " 'conjure': 39,\n",
       " 'of': 40,\n",
       " 'computer': 41,\n",
       " 'as': 42}"
      ]
     },
     "execution_count": 9,
     "metadata": {},
     "output_type": "execute_result"
    }
   ],
   "source": [
    "word_to_ix = {word: i for i, word in enumerate(vocab)}\n",
    "word_to_ix"
   ]
  },
  {
   "cell_type": "code",
   "execution_count": 10,
   "metadata": {},
   "outputs": [
    {
     "data": {
      "text/plain": [
       "{0: 'the',\n",
       " 1: 'are',\n",
       " 2: 'evolution',\n",
       " 3: 'evolve',\n",
       " 4: 'manipulate',\n",
       " 5: 'called',\n",
       " 6: 'computers',\n",
       " 7: 'they',\n",
       " 8: 'our',\n",
       " 9: 'rules',\n",
       " 10: 'program',\n",
       " 11: 'beings',\n",
       " 12: 'other',\n",
       " 13: 'processes',\n",
       " 14: 'that',\n",
       " 15: 'data',\n",
       " 16: 'directed',\n",
       " 17: 'spirits',\n",
       " 18: 'create',\n",
       " 19: 'pattern',\n",
       " 20: 'computational',\n",
       " 21: 'idea',\n",
       " 22: 'study',\n",
       " 23: 'abstract',\n",
       " 24: 'people',\n",
       " 25: 'about',\n",
       " 26: 'direct',\n",
       " 27: 'to',\n",
       " 28: 'we',\n",
       " 29: 'is',\n",
       " 30: 'inhabit',\n",
       " 31: 'programs',\n",
       " 32: 'spells',\n",
       " 33: 'effect',\n",
       " 34: 'process',\n",
       " 35: 'things',\n",
       " 36: 'by',\n",
       " 37: 'in',\n",
       " 38: 'with',\n",
       " 39: 'conjure',\n",
       " 40: 'of',\n",
       " 41: 'computer',\n",
       " 42: 'as'}"
      ]
     },
     "execution_count": 10,
     "metadata": {},
     "output_type": "execute_result"
    }
   ],
   "source": [
    "ix_to_word = {i: word for i, word in enumerate(vocab)}\n",
    "ix_to_word"
   ]
  },
  {
   "cell_type": "code",
   "execution_count": 11,
   "metadata": {},
   "outputs": [
    {
     "name": "stdout",
     "output_type": "stream",
     "text": [
      "[(['we', 'are', 'to', 'study'], 'about'), (['are', 'about', 'study', 'the'], 'to'), (['about', 'to', 'the', 'idea'], 'study'), (['to', 'study', 'idea', 'of'], 'the'), (['study', 'the', 'of', 'computational'], 'idea')]\n"
     ]
    }
   ],
   "source": [
    "# data - [(context), target]\n",
    "\n",
    "\n",
    "#  \"\"\"We are about to study the idea of a computational process.\n",
    "# Computational processes are abstract beings that inhabit computers.\n",
    "# As they evolve, processes manipulate other abstract things called data.\n",
    "# The evolution of a process is directed by a pattern of rules\n",
    "# called a program. People create programs to direct processes. In effect,\n",
    "# we conjure the spirits of the computer with our spells.\"\"\"\n",
    "\n",
    "\n",
    "data = []\n",
    "for i in range(2, len(words) - 2):\n",
    "    context = [words[i - 2], words[i - 1], words[i + 1], words[i + 2]]\n",
    "    target = words[i]\n",
    "    data.append((context, target))\n",
    "print(data[:5])"
   ]
  },
  {
   "cell_type": "markdown",
   "metadata": {},
   "source": [
    "#### Embeddings"
   ]
  },
  {
   "cell_type": "code",
   "execution_count": 12,
   "metadata": {},
   "outputs": [
    {
     "name": "stdout",
     "output_type": "stream",
     "text": [
      "(43, 10)\n"
     ]
    },
    {
     "data": {
      "text/plain": [
       "array([[8.51218014e-01, 5.43640381e-01, 5.69211843e-01, 3.87864192e-01,\n",
       "        9.36313851e-01, 4.65724877e-01, 3.51507171e-01, 2.58756575e-01,\n",
       "        1.74073895e-01, 2.92821592e-01],\n",
       "       [6.06445866e-01, 9.40276718e-01, 1.68085505e-01, 3.87387744e-01,\n",
       "        3.75868624e-01, 7.26813889e-01, 7.05899682e-02, 2.03750387e-01,\n",
       "        2.26155445e-01, 1.50028036e-01],\n",
       "       [2.94029354e-01, 3.39763700e-01, 3.87483225e-03, 3.74318777e-02,\n",
       "        6.63809582e-01, 2.49145336e-01, 6.62396360e-01, 4.69667033e-01,\n",
       "        8.51652612e-01, 8.14493826e-01],\n",
       "       [3.10926549e-01, 4.53392971e-01, 2.75582515e-01, 9.66266057e-01,\n",
       "        2.84080764e-01, 5.48649070e-01, 6.30895992e-01, 7.37136382e-01,\n",
       "        3.56239684e-01, 7.14610313e-01],\n",
       "       [7.77865307e-01, 6.50504870e-01, 5.99693544e-02, 5.61007866e-01,\n",
       "        3.48806985e-01, 7.26095927e-01, 6.80563009e-01, 4.75102772e-01,\n",
       "        6.99714373e-01, 8.71095691e-01],\n",
       "       [5.11734927e-01, 1.99460155e-01, 5.19692922e-01, 3.02960303e-01,\n",
       "        5.92853095e-02, 3.78394229e-01, 4.88305700e-01, 1.22384051e-01,\n",
       "        5.17923864e-01, 8.00046827e-01],\n",
       "       [4.77602245e-01, 8.00920778e-01, 1.52293009e-01, 3.12356613e-01,\n",
       "        8.33947612e-02, 8.19062204e-01, 3.71997714e-01, 6.33248495e-01,\n",
       "        9.87248507e-02, 3.88788043e-02],\n",
       "       [6.15333855e-01, 4.72789067e-01, 7.49642615e-01, 6.63264893e-01,\n",
       "        9.85895159e-01, 8.76281731e-01, 9.73502568e-01, 7.06313076e-01,\n",
       "        3.08705961e-01, 6.98148323e-01],\n",
       "       [2.99959103e-01, 4.94117552e-01, 7.53753590e-01, 3.89271136e-01,\n",
       "        1.78323721e-01, 4.13192574e-01, 3.89341467e-01, 9.21468830e-01,\n",
       "        8.14578107e-01, 9.86570800e-01],\n",
       "       [2.72593604e-01, 7.70550774e-01, 3.64084763e-01, 1.12153885e-02,\n",
       "        7.08945746e-01, 5.22177344e-01, 1.69207163e-01, 6.24082314e-01,\n",
       "        6.87344619e-01, 7.50167947e-01],\n",
       "       [3.36041828e-01, 7.92961916e-01, 5.86130434e-01, 8.05162442e-02,\n",
       "        5.45510921e-01, 6.16693458e-02, 2.91619409e-02, 1.64589290e-01,\n",
       "        8.25979435e-01, 9.92798143e-01],\n",
       "       [9.66830042e-01, 5.30527781e-01, 7.41465016e-01, 2.36188421e-01,\n",
       "        6.78643547e-02, 8.04174068e-02, 6.17713465e-01, 5.16355645e-01,\n",
       "        3.03750657e-01, 5.81443301e-01],\n",
       "       [1.14297615e-01, 7.61843820e-02, 1.35216748e-01, 9.06335512e-01,\n",
       "        5.71949940e-01, 1.04801138e-01, 2.23524829e-01, 5.55470853e-01,\n",
       "        8.13649177e-01, 2.08787069e-01],\n",
       "       [4.57071317e-01, 7.92900076e-01, 2.56331685e-01, 6.73481973e-02,\n",
       "        5.38096665e-01, 1.99841646e-01, 8.36917680e-01, 6.56695950e-01,\n",
       "        5.52272522e-01, 5.96403403e-01],\n",
       "       [2.15484493e-01, 7.70377791e-01, 3.09935470e-01, 8.51530203e-01,\n",
       "        5.63844016e-01, 3.60693314e-02, 6.81471656e-01, 8.17698922e-01,\n",
       "        5.27711697e-01, 3.50458159e-01],\n",
       "       [6.50089013e-01, 8.33955054e-01, 2.62108233e-01, 2.90486861e-01,\n",
       "        8.17190697e-01, 8.76192073e-01, 9.72169064e-01, 1.33710251e-01,\n",
       "        2.14560849e-02, 6.18914603e-01],\n",
       "       [5.14558037e-01, 1.78775820e-01, 2.58913743e-01, 1.33433110e-01,\n",
       "        6.79952868e-02, 5.56874833e-01, 2.59254273e-01, 2.15037319e-01,\n",
       "        4.27103915e-01, 9.02130048e-01],\n",
       "       [3.29206606e-01, 5.21709218e-01, 1.30767785e-01, 8.76884556e-01,\n",
       "        9.76823559e-01, 2.60304877e-01, 2.94771763e-02, 1.90248392e-01,\n",
       "        8.71587099e-01, 3.51453167e-01],\n",
       "       [7.85176634e-01, 5.69006831e-01, 6.68668185e-01, 6.52947158e-01,\n",
       "        7.05266924e-01, 6.32655740e-01, 8.22299695e-01, 6.82712630e-02,\n",
       "        2.24204611e-01, 5.99947848e-01],\n",
       "       [9.95046563e-01, 1.20206295e-01, 5.95411179e-01, 7.73615727e-01,\n",
       "        7.32078641e-01, 8.08534408e-01, 9.04137890e-01, 9.81219910e-01,\n",
       "        1.31297854e-01, 7.59114507e-01],\n",
       "       [5.13943252e-01, 2.57783049e-01, 6.53856816e-01, 8.38892221e-02,\n",
       "        2.54840447e-01, 6.45601859e-01, 3.08244406e-01, 8.52481997e-01,\n",
       "        5.93243855e-01, 4.00620009e-01],\n",
       "       [1.89415165e-01, 5.22605952e-01, 1.78640004e-01, 3.51948750e-01,\n",
       "        2.51675963e-01, 8.24154823e-01, 5.20564087e-01, 6.82960011e-01,\n",
       "        9.34486104e-02, 6.72742192e-01],\n",
       "       [9.59642036e-01, 6.00576262e-01, 7.68923552e-01, 8.60061792e-01,\n",
       "        4.09636834e-01, 2.88932169e-01, 7.11562525e-01, 6.66250828e-01,\n",
       "        7.77712698e-01, 5.57355728e-01],\n",
       "       [9.96591823e-01, 5.33552944e-01, 6.84417327e-01, 5.68308229e-01,\n",
       "        2.83361762e-01, 2.55702133e-01, 9.76319135e-01, 1.11741400e-01,\n",
       "        3.62101390e-01, 3.48026186e-01],\n",
       "       [5.31054053e-01, 4.31779236e-01, 8.52325633e-01, 1.33039256e-01,\n",
       "        5.98902528e-01, 7.25164912e-01, 3.96020072e-01, 9.27397744e-01,\n",
       "        3.70122335e-01, 2.04238744e-01],\n",
       "       [7.06399214e-01, 2.35798190e-01, 9.40221800e-01, 2.66875869e-01,\n",
       "        6.62095858e-01, 3.80521782e-01, 6.44381318e-01, 1.46951767e-01,\n",
       "        6.89531604e-01, 4.61564049e-01],\n",
       "       [5.35904709e-01, 2.00147708e-01, 5.41970002e-01, 4.90803117e-01,\n",
       "        5.72981764e-01, 9.48196480e-01, 5.40501876e-01, 7.40273971e-01,\n",
       "        7.18096794e-01, 8.77761902e-01],\n",
       "       [3.03542924e-01, 9.52641945e-01, 6.53742241e-01, 5.65890103e-01,\n",
       "        3.13823966e-02, 8.68780495e-01, 6.92678434e-01, 8.19175416e-01,\n",
       "        4.48230112e-01, 2.61521313e-01],\n",
       "       [2.70295015e-01, 3.44614514e-01, 6.19897926e-01, 4.28870504e-01,\n",
       "        5.69996774e-01, 3.00146119e-01, 5.21375798e-01, 6.54701285e-01,\n",
       "        7.72281128e-01, 5.23108919e-02],\n",
       "       [5.54327425e-01, 3.53625279e-01, 1.19101116e-01, 7.63597888e-01,\n",
       "        8.71397795e-01, 3.14537017e-01, 5.17873481e-01, 3.03730399e-02,\n",
       "        5.40709841e-01, 8.51305842e-01],\n",
       "       [8.14862104e-01, 7.24330978e-01, 8.32108451e-01, 7.55183807e-01,\n",
       "        6.18377965e-01, 7.61744635e-02, 6.16162528e-01, 6.65724228e-01,\n",
       "        5.10536868e-01, 9.45662190e-01],\n",
       "       [8.39676475e-01, 8.00003621e-01, 3.91304041e-02, 1.39259308e-01,\n",
       "        7.30663793e-02, 4.76110188e-01, 1.74927380e-01, 3.34372213e-01,\n",
       "        5.01459279e-01, 1.01150015e-01],\n",
       "       [6.41487262e-02, 4.59944399e-01, 9.20786770e-01, 6.92807437e-01,\n",
       "        1.22134686e-02, 8.29635407e-01, 3.07517577e-01, 4.25105092e-01,\n",
       "        5.69004953e-01, 4.64153357e-01],\n",
       "       [8.79740219e-01, 6.95931859e-01, 2.06336231e-01, 1.41339720e-01,\n",
       "        2.12818537e-02, 9.47109625e-01, 2.06724557e-01, 7.42152203e-01,\n",
       "        6.87011547e-01, 6.98858387e-01],\n",
       "       [9.44890818e-02, 3.99449732e-01, 7.08800684e-01, 4.35748197e-01,\n",
       "        8.34266250e-01, 6.71307012e-01, 5.92085431e-01, 6.04333721e-04,\n",
       "        7.09547515e-01, 4.30633338e-01],\n",
       "       [7.15428385e-01, 1.06500563e-01, 5.21617046e-01, 5.94418101e-01,\n",
       "        2.39957319e-01, 2.25910715e-02, 3.68876032e-02, 4.37276214e-01,\n",
       "        8.55208541e-01, 2.54538706e-01],\n",
       "       [3.95701830e-01, 5.33008606e-01, 9.55596649e-01, 2.42396873e-01,\n",
       "        1.45030019e-01, 3.54873876e-01, 9.09276878e-01, 3.55686877e-01,\n",
       "        9.25829481e-01, 9.26694240e-01],\n",
       "       [6.82803727e-01, 4.57172819e-01, 4.47668039e-01, 5.40681661e-01,\n",
       "        3.77440289e-01, 7.61949922e-01, 7.33582550e-01, 1.59164740e-01,\n",
       "        7.99058945e-01, 5.82973519e-01],\n",
       "       [1.65006911e-01, 6.05782198e-01, 8.65685922e-01, 5.09749929e-01,\n",
       "        4.24634015e-01, 9.18988715e-01, 3.63041022e-01, 4.98769061e-01,\n",
       "        7.92590302e-01, 4.86110303e-01],\n",
       "       [7.30782232e-01, 1.12562552e-01, 4.07131082e-02, 7.38067955e-01,\n",
       "        7.64261551e-02, 5.38752440e-01, 1.02874290e-01, 2.66120265e-01,\n",
       "        6.41931218e-01, 3.42962956e-01],\n",
       "       [4.76928296e-01, 7.26063720e-01, 4.98370261e-01, 3.59194039e-01,\n",
       "        5.18539088e-01, 2.91929046e-01, 4.84013542e-01, 4.09469234e-01,\n",
       "        4.09358701e-01, 4.99522092e-01],\n",
       "       [1.05240275e-01, 1.81150197e-01, 8.80381586e-02, 6.04822123e-01,\n",
       "        3.67091769e-01, 8.12369198e-01, 3.06898275e-02, 5.05223181e-01,\n",
       "        7.29749984e-01, 7.60487644e-01],\n",
       "       [6.10248240e-01, 6.96799628e-01, 4.82256180e-01, 3.16263298e-02,\n",
       "        6.07093861e-01, 4.46392791e-01, 2.63144808e-01, 8.54093012e-01,\n",
       "        6.47728885e-01, 3.00394790e-01]])"
      ]
     },
     "execution_count": 12,
     "metadata": {},
     "output_type": "execute_result"
    }
   ],
   "source": [
    "embeddings =  np.random.random_sample((vocab_size, embed_dim))\n",
    "print(embeddings.shape)\n",
    "embeddings"
   ]
  },
  {
   "cell_type": "code",
   "execution_count": 13,
   "metadata": {},
   "outputs": [],
   "source": [
    "def linear(m, theta):\n",
    "    w = theta\n",
    "    return m.dot(w)"
   ]
  },
  {
   "cell_type": "markdown",
   "metadata": {},
   "source": [
    "#### Log softmax + NLLloss = Cross Entropy"
   ]
  },
  {
   "cell_type": "code",
   "execution_count": 14,
   "metadata": {},
   "outputs": [],
   "source": [
    "def log_softmax(x):\n",
    "    e_x = np.exp(x - np.max(x))\n",
    "    return np.log(e_x / e_x.sum())"
   ]
  },
  {
   "cell_type": "code",
   "execution_count": 15,
   "metadata": {},
   "outputs": [],
   "source": [
    "def NLLLoss(logs, targets):\n",
    "    out = logs[range(len(targets)), targets]\n",
    "    return -out.sum()/len(out)"
   ]
  },
  {
   "cell_type": "code",
   "execution_count": 16,
   "metadata": {},
   "outputs": [],
   "source": [
    "def log_softmax_crossentropy_with_logits(logits,target):\n",
    "\n",
    "    out = np.zeros_like(logits)\n",
    "    out[np.arange(len(logits)),target] = 1\n",
    "    \n",
    "    softmax = np.exp(logits) / np.exp(logits).sum(axis=-1,keepdims=True)\n",
    "    \n",
    "    return (- out + softmax) / logits.shape[0]"
   ]
  },
  {
   "cell_type": "markdown",
   "metadata": {},
   "source": [
    "#### Forward function"
   ]
  },
  {
   "cell_type": "code",
   "execution_count": 17,
   "metadata": {},
   "outputs": [],
   "source": [
    "def forward(context_idxs, theta):\n",
    "    m = embeddings[context_idxs].reshape(1, -1)\n",
    "    n = linear(m, theta)\n",
    "    o = log_softmax(n)\n",
    "    return m, n, o"
   ]
  },
  {
   "cell_type": "markdown",
   "metadata": {},
   "source": [
    "#### Backward function"
   ]
  },
  {
   "cell_type": "code",
   "execution_count": 18,
   "metadata": {},
   "outputs": [],
   "source": [
    "def backward(preds, theta, target_idxs):\n",
    "    m, n, o = preds\n",
    "    dlog = log_softmax_crossentropy_with_logits(n, target_idxs)\n",
    "    dw = m.T.dot(dlog)\n",
    "    return dw"
   ]
  },
  {
   "cell_type": "markdown",
   "metadata": {},
   "source": [
    "#### Optimize function"
   ]
  },
  {
   "cell_type": "code",
   "execution_count": 19,
   "metadata": {},
   "outputs": [],
   "source": [
    "def optimize(theta, grad, lr=0.03):\n",
    "    theta -= grad * lr\n",
    "    return theta"
   ]
  },
  {
   "cell_type": "markdown",
   "metadata": {},
   "source": [
    "#### Training function"
   ]
  },
  {
   "cell_type": "code",
   "execution_count": 20,
   "metadata": {},
   "outputs": [],
   "source": [
    "theta = np.random.uniform(-1, 1, (2 * context_size * embed_dim, vocab_size))"
   ]
  },
  {
   "cell_type": "code",
   "execution_count": 21,
   "metadata": {},
   "outputs": [],
   "source": [
    "# [(['we', 'are', 'to', 'study'], 'about'), (['are', 'about', 'study', 'the'], 'to'), (['about', 'to', 'the', 'idea'], 'study'), (['to', 'study', 'idea', 'of'], 'the'), (['study', 'the', 'of', 'computational'], 'idea')]\n",
    "\n",
    "\n",
    "\n",
    "epoch_losses = {}\n",
    "\n",
    "for epoch in range(80):\n",
    "\n",
    "    losses =  []\n",
    "\n",
    "    for context, target in data:\n",
    "        context_idxs = np.array([word_to_ix[w] for w in context])\n",
    "        preds = forward(context_idxs, theta)\n",
    "\n",
    "        target_idxs = np.array([word_to_ix[target]])\n",
    "        loss = NLLLoss(preds[-1], target_idxs)\n",
    "\n",
    "        losses.append(loss)\n",
    "\n",
    "        grad = backward(preds, theta, target_idxs)\n",
    "        theta = optimize(theta, grad, lr=0.03)\n",
    "        \n",
    "     \n",
    "    epoch_losses[epoch] = losses"
   ]
  },
  {
   "cell_type": "code",
   "execution_count": 24,
   "metadata": {},
   "outputs": [
    {
     "data": {
      "text/plain": [
       "Text(0, 0.5, 'Losses')"
      ]
     },
     "execution_count": 24,
     "metadata": {},
     "output_type": "execute_result"
    },
    {
     "data": {
      "image/png": "[encoded data removed]",
      "text/plain": [
       "<Figure size 640x480 with 1 Axes>"
      ]
     },
     "metadata": {},
     "output_type": "display_data"
    }
   ],
   "source": [
    "ix = np.arange(0,80)\n",
    "# plt.style.use('dark_background')\n",
    "fig = plt.figure()\n",
    "fig.suptitle('Epoch/Losses', fontsize=20)\n",
    "plt.plot(ix,[epoch_losses[i][0] for i in ix])\n",
    "plt.xlabel('Epochs', fontsize=12)\n",
    "plt.ylabel('Losses', fontsize=12)"
   ]
  },
  {
   "cell_type": "markdown",
   "metadata": {},
   "source": [
    "#### Predict function"
   ]
  },
  {
   "cell_type": "code",
   "execution_count": 25,
   "metadata": {},
   "outputs": [],
   "source": [
    "def predict(words):\n",
    "    context_idxs = np.array([word_to_ix[w] for w in words])\n",
    "    preds = forward(context_idxs, theta)\n",
    "    word = ix_to_word[np.argmax(preds[-1])]\n",
    "    \n",
    "    return word"
   ]
  },
  {
   "cell_type": "code",
   "execution_count": 26,
   "metadata": {},
   "outputs": [
    {
     "data": {
      "text/plain": [
       "'about'"
      ]
     },
     "execution_count": 26,
     "metadata": {},
     "output_type": "execute_result"
    }
   ],
   "source": [
    "# (['we', 'are', 'to', 'study'], 'about')\n",
    "predict(['we', 'are', 'to', 'study'])"
   ]
  },
  {
   "cell_type": "markdown",
   "metadata": {},
   "source": [
    "#### Accuracy"
   ]
  },
  {
   "cell_type": "code",
   "execution_count": 27,
   "metadata": {},
   "outputs": [],
   "source": [
    "def accuracy():\n",
    "    wrong = 0\n",
    "\n",
    "    for context, target in data:\n",
    "        if(predict(context) != target):\n",
    "            wrong += 1\n",
    "            \n",
    "    return (1 - (wrong / len(data)))"
   ]
  },
  {
   "cell_type": "code",
   "execution_count": 28,
   "metadata": {},
   "outputs": [
    {
     "data": {
      "text/plain": [
       "1.0"
      ]
     },
     "execution_count": 28,
     "metadata": {},
     "output_type": "execute_result"
    }
   ],
   "source": [
    "accuracy()"
   ]
  }
 ],
 "metadata": {
  "kernelspec": {
   "display_name": "Python 3",
   "language": "python",
   "name": "python3"
  },
  "language_info": {
   "codemirror_mode": {
    "name": "ipython",
    "version": 3
   },
   "file_extension": ".py",
   "mimetype": "text/x-python",
   "name": "python",
   "nbconvert_exporter": "python",
   "pygments_lexer": "ipython3",
   "version": "3.12.0"
  }
 },
 "nbformat": 4,
 "nbformat_minor": 2
}
